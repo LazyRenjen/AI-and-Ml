{
  "nbformat": 4,
  "nbformat_minor": 0,
  "metadata": {
    "colab": {
      "provenance": []
    },
    "kernelspec": {
      "name": "python3",
      "display_name": "Python 3"
    },
    "language_info": {
      "name": "python"
    }
  },
  "cells": [
    {
      "cell_type": "code",
      "source": [
        "pip install keras tensorflow"
      ],
      "metadata": {
        "colab": {
          "base_uri": "https://localhost:8080/"
        },
        "id": "u8arKshjCd_U",
        "outputId": "79448dd3-880e-43d2-e8f5-165c0621bab9"
      },
      "execution_count": 1,
      "outputs": [
        {
          "output_type": "stream",
          "name": "stdout",
          "text": [
            "Requirement already satisfied: keras in /usr/local/lib/python3.11/dist-packages (3.8.0)\n",
            "Requirement already satisfied: tensorflow in /usr/local/lib/python3.11/dist-packages (2.18.0)\n",
            "Requirement already satisfied: absl-py in /usr/local/lib/python3.11/dist-packages (from keras) (1.4.0)\n",
            "Requirement already satisfied: numpy in /usr/local/lib/python3.11/dist-packages (from keras) (2.0.2)\n",
            "Requirement already satisfied: rich in /usr/local/lib/python3.11/dist-packages (from keras) (13.9.4)\n",
            "Requirement already satisfied: namex in /usr/local/lib/python3.11/dist-packages (from keras) (0.0.8)\n",
            "Requirement already satisfied: h5py in /usr/local/lib/python3.11/dist-packages (from keras) (3.13.0)\n",
            "Requirement already satisfied: optree in /usr/local/lib/python3.11/dist-packages (from keras) (0.14.1)\n",
            "Requirement already satisfied: ml-dtypes in /usr/local/lib/python3.11/dist-packages (from keras) (0.4.1)\n",
            "Requirement already satisfied: packaging in /usr/local/lib/python3.11/dist-packages (from keras) (24.2)\n",
            "Requirement already satisfied: astunparse>=1.6.0 in /usr/local/lib/python3.11/dist-packages (from tensorflow) (1.6.3)\n",
            "Requirement already satisfied: flatbuffers>=24.3.25 in /usr/local/lib/python3.11/dist-packages (from tensorflow) (25.2.10)\n",
            "Requirement already satisfied: gast!=0.5.0,!=0.5.1,!=0.5.2,>=0.2.1 in /usr/local/lib/python3.11/dist-packages (from tensorflow) (0.6.0)\n",
            "Requirement already satisfied: google-pasta>=0.1.1 in /usr/local/lib/python3.11/dist-packages (from tensorflow) (0.2.0)\n",
            "Requirement already satisfied: libclang>=13.0.0 in /usr/local/lib/python3.11/dist-packages (from tensorflow) (18.1.1)\n",
            "Requirement already satisfied: opt-einsum>=2.3.2 in /usr/local/lib/python3.11/dist-packages (from tensorflow) (3.4.0)\n",
            "Requirement already satisfied: protobuf!=4.21.0,!=4.21.1,!=4.21.2,!=4.21.3,!=4.21.4,!=4.21.5,<6.0.0dev,>=3.20.3 in /usr/local/lib/python3.11/dist-packages (from tensorflow) (5.29.4)\n",
            "Requirement already satisfied: requests<3,>=2.21.0 in /usr/local/lib/python3.11/dist-packages (from tensorflow) (2.32.3)\n",
            "Requirement already satisfied: setuptools in /usr/local/lib/python3.11/dist-packages (from tensorflow) (75.1.0)\n",
            "Requirement already satisfied: six>=1.12.0 in /usr/local/lib/python3.11/dist-packages (from tensorflow) (1.17.0)\n",
            "Requirement already satisfied: termcolor>=1.1.0 in /usr/local/lib/python3.11/dist-packages (from tensorflow) (2.5.0)\n",
            "Requirement already satisfied: typing-extensions>=3.6.6 in /usr/local/lib/python3.11/dist-packages (from tensorflow) (4.12.2)\n",
            "Requirement already satisfied: wrapt>=1.11.0 in /usr/local/lib/python3.11/dist-packages (from tensorflow) (1.17.2)\n",
            "Requirement already satisfied: grpcio<2.0,>=1.24.3 in /usr/local/lib/python3.11/dist-packages (from tensorflow) (1.71.0)\n",
            "Requirement already satisfied: tensorboard<2.19,>=2.18 in /usr/local/lib/python3.11/dist-packages (from tensorflow) (2.18.0)\n",
            "Requirement already satisfied: tensorflow-io-gcs-filesystem>=0.23.1 in /usr/local/lib/python3.11/dist-packages (from tensorflow) (0.37.1)\n",
            "Requirement already satisfied: wheel<1.0,>=0.23.0 in /usr/local/lib/python3.11/dist-packages (from astunparse>=1.6.0->tensorflow) (0.45.1)\n",
            "Requirement already satisfied: charset-normalizer<4,>=2 in /usr/local/lib/python3.11/dist-packages (from requests<3,>=2.21.0->tensorflow) (3.4.1)\n",
            "Requirement already satisfied: idna<4,>=2.5 in /usr/local/lib/python3.11/dist-packages (from requests<3,>=2.21.0->tensorflow) (3.10)\n",
            "Requirement already satisfied: urllib3<3,>=1.21.1 in /usr/local/lib/python3.11/dist-packages (from requests<3,>=2.21.0->tensorflow) (2.3.0)\n",
            "Requirement already satisfied: certifi>=2017.4.17 in /usr/local/lib/python3.11/dist-packages (from requests<3,>=2.21.0->tensorflow) (2025.1.31)\n",
            "Requirement already satisfied: markdown>=2.6.8 in /usr/local/lib/python3.11/dist-packages (from tensorboard<2.19,>=2.18->tensorflow) (3.7)\n",
            "Requirement already satisfied: tensorboard-data-server<0.8.0,>=0.7.0 in /usr/local/lib/python3.11/dist-packages (from tensorboard<2.19,>=2.18->tensorflow) (0.7.2)\n",
            "Requirement already satisfied: werkzeug>=1.0.1 in /usr/local/lib/python3.11/dist-packages (from tensorboard<2.19,>=2.18->tensorflow) (3.1.3)\n",
            "Requirement already satisfied: markdown-it-py>=2.2.0 in /usr/local/lib/python3.11/dist-packages (from rich->keras) (3.0.0)\n",
            "Requirement already satisfied: pygments<3.0.0,>=2.13.0 in /usr/local/lib/python3.11/dist-packages (from rich->keras) (2.18.0)\n",
            "Requirement already satisfied: mdurl~=0.1 in /usr/local/lib/python3.11/dist-packages (from markdown-it-py>=2.2.0->rich->keras) (0.1.2)\n",
            "Requirement already satisfied: MarkupSafe>=2.1.1 in /usr/local/lib/python3.11/dist-packages (from werkzeug>=1.0.1->tensorboard<2.19,>=2.18->tensorflow) (3.0.2)\n"
          ]
        }
      ]
    },
    {
      "cell_type": "code",
      "source": [
        "import tensorflow as tf\n",
        "print(tf.keras.__version__)"
      ],
      "metadata": {
        "colab": {
          "base_uri": "https://localhost:8080/"
        },
        "id": "bL9M6BnaCjvK",
        "outputId": "683ceaa4-9d00-4e3f-ad3d-dc44ab0220f5"
      },
      "execution_count": 11,
      "outputs": [
        {
          "output_type": "stream",
          "name": "stdout",
          "text": [
            "3.8.0\n"
          ]
        }
      ]
    },
    {
      "cell_type": "code",
      "source": [
        "import tensorflow as tf\n",
        "\n",
        "x = tf.Variable(5.0)  # Trainable variable\n",
        "with tf.GradientTape() as tape:\n",
        "    fy = x ** 2  # y = x^2\n",
        "\n",
        "grad = tape.gradient(fy, x)  # Use fy instead of y\n",
        "print(grad.numpy())  # Output: 10.0\n"
      ],
      "metadata": {
        "colab": {
          "base_uri": "https://localhost:8080/"
        },
        "id": "sMr96D6NCswA",
        "outputId": "e26ef06b-f967-4dfe-a003-132e77902c7c"
      },
      "execution_count": 15,
      "outputs": [
        {
          "output_type": "stream",
          "name": "stdout",
          "text": [
            "10.0\n"
          ]
        }
      ]
    },
    {
      "cell_type": "code",
      "source": [
        "from google.colab import drive\n",
        "drive.mount('/content/drive')"
      ],
      "metadata": {
        "colab": {
          "base_uri": "https://localhost:8080/"
        },
        "id": "4ooHFg0ZA3o8",
        "outputId": "90a2aa23-aa54-48da-e78a-f1cea6265abd"
      },
      "execution_count": 9,
      "outputs": [
        {
          "output_type": "stream",
          "name": "stdout",
          "text": [
            "Mounted at /content/drive\n"
          ]
        }
      ]
    },
    {
      "cell_type": "code",
      "source": [
        "pip install Pillow\n"
      ],
      "metadata": {
        "colab": {
          "base_uri": "https://localhost:8080/"
        },
        "id": "1lwV4LnABLyL",
        "outputId": "822a1456-e84b-487f-e2a9-311076b8d5da"
      },
      "execution_count": 16,
      "outputs": [
        {
          "output_type": "stream",
          "name": "stdout",
          "text": [
            "Requirement already satisfied: Pillow in /usr/local/lib/python3.11/dist-packages (11.1.0)\n"
          ]
        }
      ]
    },
    {
      "cell_type": "code",
      "source": [
        "!unzip \"/content/drive/MyDrive/Artificial Intelligence and Machine Learning/week 4/Copy of devnagari digit.zip\" -d \"/content/drive/MyDrive/Artificial Intelligence and Machine Learning/week 4/\"\n"
      ],
      "metadata": {
        "colab": {
          "base_uri": "https://localhost:8080/"
        },
        "id": "AQm1LOmBRHrQ",
        "outputId": "9b414554-4f5c-4507-e4c2-587c3d4976e7"
      },
      "execution_count": 18,
      "outputs": [
        {
          "output_type": "stream",
          "name": "stdout",
          "text": [
            "unzip:  cannot find or open /content/drive/MyDrive/Artificial intelligence and machine learning/Worksheet4/Copy of devnagari digit/Copy of devnagari digit/DevanagariHandwrittenDigitDataset, /content/drive/MyDrive/Artificial intelligence and machine learning/Worksheet4/Copy of devnagari digit/Copy of devnagari digit/DevanagariHandwrittenDigitDataset.zip or /content/drive/MyDrive/Artificial intelligence and machine learning/Worksheet4/Copy of devnagari digit/Copy of devnagari digit/DevanagariHandwrittenDigitDataset.ZIP.\n"
          ]
        }
      ]
    },
    {
      "cell_type": "code",
      "source": [
        "!ls \"/content/drive/MyDrive/Artificial Intelligence and Machine Learning/week 4/DevanagariHandwrittenDigitDataset/Test\"\n"
      ],
      "metadata": {
        "colab": {
          "base_uri": "https://localhost:8080/"
        },
        "id": "no6d1RLsTLxB",
        "outputId": "a4e66d04-5418-40b9-cd26-6a0b4010de21"
      },
      "execution_count": null,
      "outputs": [
        {
          "output_type": "stream",
          "name": "stdout",
          "text": [
            "digit_0  digit_1  digit_2  digit_3  digit_4  digit_5  digit_6  digit_7\tdigit_8  digit_9\n"
          ]
        }
      ]
    },
    {
      "cell_type": "code",
      "source": [
        "!ls \"/content/drive/MyDrive/Artificial Intelligence and Machine Learning/week 4/DevanagariHandwrittenDigitDataset/Train/digit_0\"\n"
      ],
      "metadata": {
        "colab": {
          "base_uri": "https://localhost:8080/"
        },
        "id": "Ouqsj5bvTjuJ",
        "outputId": "3dacb56e-a7b9-4a83-c5d6-d6d369fdb3db"
      },
      "execution_count": null,
      "outputs": [
        {
          "output_type": "stream",
          "name": "stdout",
          "text": [
            "103265.png  12335.png  28867.png  39442.png  4575.png\t49273.png  6783.png   76339.png  9506.png\n",
            "103266.png  12336.png  28868.png  39443.png  4576.png\t49274.png  6784.png   76340.png  9507.png\n",
            "103267.png  12337.png  28870.png  39444.png  4577.png\t49275.png  6785.png   76341.png  9508.png\n",
            "103268.png  12338.png  28873.png  39446.png  4578.png\t49277.png  6786.png   76342.png  9509.png\n",
            "103269.png  12339.png  28874.png  39447.png  4579.png\t49278.png  6787.png   76343.png  9510.png\n",
            "103270.png  12340.png  28876.png  39448.png  4580.png\t49279.png  6788.png   76344.png  9511.png\n",
            "103271.png  12341.png  28877.png  39449.png  4581.png\t49280.png  6789.png   76345.png  9512.png\n",
            "103272.png  12342.png  28878.png  39450.png  4582.png\t49281.png  6790.png   76346.png  9513.png\n",
            "103273.png  12343.png  28879.png  39451.png  4583.png\t49282.png  6791.png   76347.png  9514.png\n",
            "103274.png  12344.png  28880.png  39452.png  4585.png\t49283.png  6792.png   76348.png  9515.png\n",
            "103275.png  12345.png  28882.png  39453.png  4586.png\t49284.png  6793.png   76349.png  9516.png\n",
            "103276.png  12347.png  28883.png  39454.png  4587.png\t49285.png  6794.png   76350.png  9517.png\n",
            "103279.png  12349.png  28885.png  39455.png  4588.png\t49286.png  6795.png   76351.png  9518.png\n",
            "103280.png  12351.png  28887.png  39456.png  4589.png\t49287.png  6796.png   76352.png  9519.png\n",
            "103282.png  12353.png  28888.png  39458.png  4590.png\t49289.png  6797.png   76353.png  9520.png\n",
            "103283.png  12354.png  28890.png  39459.png  4591.png\t49290.png  6798.png   76354.png  9521.png\n",
            "103284.png  12355.png  28891.png  39460.png  4592.png\t49291.png  6799.png   76355.png  9522.png\n",
            "103305.png  12356.png  28892.png  39462.png  4595.png\t49292.png  6800.png   76356.png  9523.png\n",
            "103306.png  12357.png  28893.png  39463.png  4596.png\t49294.png  6801.png   76357.png  9524.png\n",
            "103307.png  12359.png  28894.png  39464.png  4597.png\t49295.png  6802.png   76359.png  9525.png\n",
            "103308.png  12360.png  28895.png  39465.png  4598.png\t49296.png  6803.png   76360.png  9526.png\n",
            "103310.png  12361.png  28896.png  39466.png  4599.png\t49297.png  6804.png   76361.png  9527.png\n",
            "103312.png  12362.png  28897.png  39468.png  4601.png\t49298.png  6806.png   76362.png  9528.png\n",
            "103313.png  12363.png  28898.png  39469.png  4602.png\t49299.png  6807.png   76363.png  9530.png\n",
            "103314.png  12364.png  28899.png  39470.png  4603.png\t49300.png  6808.png   76364.png  9532.png\n",
            "103315.png  12365.png  28900.png  39472.png  4604.png\t49301.png  6809.png   85645.png  9533.png\n",
            "103316.png  12366.png  28901.png  39473.png  4605.png\t49302.png  6810.png   85647.png  9534.png\n",
            "103317.png  12367.png  28902.png  39475.png  4606.png\t49304.png  6811.png   85648.png  9535.png\n",
            "103318.png  12368.png  28904.png  39476.png  4607.png\t49305.png  6812.png   85649.png  9536.png\n",
            "103319.png  12369.png  28905.png  39477.png  4610.png\t49306.png  6813.png   85650.png  9537.png\n",
            "103320.png  12370.png  28906.png  39478.png  4611.png\t49308.png  6814.png   85653.png  9538.png\n",
            "103321.png  12371.png  28908.png  39479.png  4612.png\t49309.png  6815.png   85654.png  9539.png\n",
            "103323.png  12372.png  28910.png  39481.png  4613.png\t49310.png  6816.png   85655.png  9540.png\n",
            "103324.png  12373.png  28911.png  39482.png  4614.png\t49311.png  6817.png   85660.png  9541.png\n",
            "103326.png  12374.png  28912.png  39483.png  4615.png\t49313.png  6818.png   85661.png  9542.png\n",
            "103327.png  12375.png  28913.png  39485.png  4616.png\t49314.png  6820.png   86467.png  9543.png\n",
            "103328.png  12377.png  28914.png  39489.png  4618.png\t49316.png  6821.png   86468.png  9544.png\n",
            "103329.png  12378.png  28915.png  39490.png  4619.png\t49317.png  6822.png   86469.png  9546.png\n",
            "103330.png  12379.png  28916.png  39491.png  4620.png\t49318.png  6825.png   86470.png  9547.png\n",
            "103331.png  12380.png  28917.png  39492.png  4621.png\t50780.png  6826.png   86471.png  9548.png\n",
            "103332.png  12381.png  28918.png  39493.png  4622.png\t50781.png  6827.png   86472.png  9549.png\n",
            "103333.png  12382.png  28919.png  39494.png  4623.png\t53033.png  6828.png   86473.png  9550.png\n",
            "103334.png  12383.png  28920.png  39495.png  4624.png\t53035.png  6829.png   86474.png  9551.png\n",
            "103335.png  12384.png  28921.png  39496.png  4625.png\t53036.png  6830.png   86475.png  9552.png\n",
            "103336.png  12386.png  28923.png  39497.png  4626.png\t53037.png  6831.png   86476.png  9554.png\n",
            "103337.png  12387.png  28924.png  39498.png  4627.png\t53039.png  69079.png  86477.png  9555.png\n",
            "103338.png  12389.png  28925.png  39499.png  4628.png\t53041.png  69080.png  86478.png  9556.png\n",
            "103339.png  12390.png  28927.png  39500.png  4629.png\t53043.png  69081.png  86479.png  9557.png\n",
            "103341.png  12393.png  28928.png  39501.png  4630.png\t53044.png  71205.png  86480.png  9558.png\n",
            "103342.png  12394.png  28929.png  39502.png  4631.png\t53045.png  76184.png  86481.png  9560.png\n",
            "103344.png  12395.png  28930.png  39503.png  4632.png\t53046.png  76185.png  89367.png  9561.png\n",
            "103345.png  12396.png  28931.png  39504.png  4633.png\t53048.png  76186.png  89369.png  9562.png\n",
            "103346.png  13424.png  28932.png  39505.png  4634.png\t53049.png  76188.png  89370.png  9563.png\n",
            "103347.png  13425.png  28933.png  39509.png  4635.png\t53050.png  76189.png  89371.png  9564.png\n",
            "103348.png  13426.png  28935.png  39510.png  4638.png\t53051.png  76190.png  89372.png  9565.png\n",
            "103349.png  13427.png  28936.png  39511.png  4639.png\t53052.png  76191.png  89373.png  9566.png\n",
            "103350.png  13428.png  28937.png  39513.png  4640.png\t53055.png  76192.png  89374.png  9568.png\n",
            "103351.png  13429.png  28938.png  39514.png  4642.png\t53058.png  76193.png  89375.png  9569.png\n",
            "103352.png  13430.png  28939.png  39515.png  4643.png\t53059.png  76194.png  89376.png  9570.png\n",
            "103353.png  13431.png  28942.png  39516.png  4644.png\t53060.png  76195.png  89377.png  9571.png\n",
            "103354.png  13432.png  28944.png  39518.png  4646.png\t53061.png  76196.png  89379.png  9572.png\n",
            "103355.png  13433.png  28945.png  39519.png  4647.png\t53063.png  76197.png  89380.png  9573.png\n",
            "103356.png  13434.png  28946.png  39520.png  4648.png\t66547.png  76198.png  89382.png  9574.png\n",
            "103357.png  13435.png  28947.png  39521.png  4649.png\t66548.png  76199.png  89384.png  9576.png\n",
            "103359.png  13436.png  28948.png  39522.png  4650.png\t66549.png  76200.png  89386.png  9578.png\n",
            "103360.png  13437.png  28950.png  39523.png  4651.png\t66550.png  76201.png  89387.png  9581.png\n",
            "103361.png  13439.png  28951.png  39524.png  4652.png\t66551.png  76202.png  89388.png  9583.png\n",
            "103362.png  13440.png  28952.png  39525.png  4653.png\t66552.png  76203.png  89389.png  9584.png\n",
            "103363.png  13441.png  28953.png  39526.png  4654.png\t66554.png  76204.png  89390.png  9585.png\n",
            "103364.png  13442.png  28954.png  39527.png  4655.png\t66555.png  76205.png  89391.png  9586.png\n",
            "103365.png  13443.png  28955.png  39528.png  4656.png\t66557.png  76206.png  89392.png  99501.png\n",
            "103367.png  13444.png  28957.png  39530.png  4658.png\t66559.png  76207.png  89393.png  99502.png\n",
            "103368.png  18491.png  28958.png  39531.png  4659.png\t66561.png  76208.png  89394.png  99504.png\n",
            "103370.png  18492.png  39308.png  39532.png  4660.png\t66562.png  76209.png  89395.png  99505.png\n",
            "103371.png  18493.png  39309.png  39533.png  4661.png\t66563.png  76210.png  89396.png  99506.png\n",
            "103373.png  18496.png  39310.png  39534.png  4662.png\t66564.png  76211.png  89397.png  99507.png\n",
            "103374.png  18497.png  39311.png  39535.png  4663.png\t66565.png  76213.png  89398.png  99508.png\n",
            "103375.png  18498.png  39312.png  39536.png  4664.png\t66566.png  76214.png  89399.png  99509.png\n",
            "103376.png  18500.png  39313.png  39537.png  4666.png\t66567.png  76215.png  89400.png  99510.png\n",
            "103377.png  18501.png  39314.png  39539.png  4668.png\t66568.png  76216.png  89401.png  99511.png\n",
            "103378.png  18502.png  39315.png  39540.png  4669.png\t66569.png  76217.png  89402.png  99512.png\n",
            "103379.png  18503.png  39316.png  39541.png  4671.png\t66570.png  76218.png  89403.png  99513.png\n",
            "103381.png  18504.png  39317.png  39542.png  4672.png\t66571.png  76219.png  89404.png  99515.png\n",
            "103382.png  18505.png  39318.png  39543.png  4673.png\t66572.png  76220.png  89405.png  99516.png\n",
            "103383.png  18507.png  39320.png  39544.png  4674.png\t66573.png  76221.png  89406.png  99517.png\n",
            "103384.png  18508.png  39321.png  39545.png  4675.png\t66575.png  76222.png  89407.png  99518.png\n",
            "103385.png  18509.png  39322.png  39547.png  4676.png\t66577.png  76223.png  89408.png  99519.png\n",
            "103387.png  18510.png  39323.png  39548.png  4677.png\t66578.png  76224.png  89409.png  99520.png\n",
            "103388.png  18511.png  39324.png  39549.png  4679.png\t66579.png  76225.png  89410.png  99521.png\n",
            "103389.png  18512.png  39325.png  39550.png  4680.png\t66580.png  76226.png  89411.png  99524.png\n",
            "103390.png  18513.png  39326.png  39551.png  4681.png\t66581.png  76227.png  89412.png  99525.png\n",
            "103391.png  18514.png  39327.png  39552.png  4682.png\t66582.png  76228.png  89413.png  99526.png\n",
            "103392.png  18515.png  39329.png  39553.png  4683.png\t66583.png  76229.png  89415.png  99527.png\n",
            "103393.png  18516.png  39330.png  39555.png  4684.png\t66585.png  76230.png  89416.png  99528.png\n",
            "103394.png  18518.png  39331.png  39556.png  4685.png\t66586.png  76231.png  89417.png  99529.png\n",
            "103395.png  18519.png  39333.png  39557.png  4686.png\t66588.png  76232.png  89419.png  99531.png\n",
            "103397.png  18520.png  39334.png  39558.png  4687.png\t66589.png  76233.png  89420.png  99532.png\n",
            "103399.png  18521.png  39335.png  39559.png  4688.png\t66590.png  76234.png  89421.png  99533.png\n",
            "103400.png  18522.png  39336.png  39561.png  4690.png\t66591.png  76236.png  89422.png  99534.png\n",
            "103402.png  18523.png  39337.png  39563.png  4691.png\t66592.png  76237.png  89424.png  99535.png\n",
            "103403.png  18524.png  39338.png  39564.png  4692.png\t66593.png  76238.png  89425.png  99537.png\n",
            "103405.png  18525.png  39339.png  39565.png  4693.png\t66594.png  76239.png  89426.png  99538.png\n",
            "103406.png  18526.png  39340.png  39566.png  4694.png\t66595.png  76240.png  89427.png  99539.png\n",
            "103407.png  18527.png  39342.png  39567.png  4695.png\t66596.png  76241.png  89428.png  99540.png\n",
            "103408.png  18529.png  39343.png  39568.png  4696.png\t66597.png  76242.png  89429.png  99541.png\n",
            "103409.png  18530.png  39344.png  39569.png  4697.png\t66599.png  76243.png  89430.png  99542.png\n",
            "103410.png  18531.png  39345.png  39570.png  4699.png\t66600.png  76244.png  89431.png  99543.png\n",
            "103411.png  18533.png  39346.png  39571.png  4700.png\t66601.png  76245.png  89432.png  99544.png\n",
            "103412.png  18535.png  39347.png  39572.png  4702.png\t66602.png  76246.png  89433.png  99545.png\n",
            "103413.png  18536.png  39348.png  39573.png  4703.png\t66603.png  76247.png  89435.png  99546.png\n",
            "103415.png  18537.png  39349.png  39574.png  4704.png\t66604.png  76248.png  89436.png  99547.png\n",
            "103416.png  18538.png  39350.png  39575.png  4705.png\t66605.png  76249.png  89438.png  99548.png\n",
            "103417.png  18539.png  39351.png  39577.png  4706.png\t66606.png  76250.png  89439.png  99549.png\n",
            "103418.png  18540.png  39352.png  39578.png  4707.png\t66607.png  76252.png  89440.png  99550.png\n",
            "103419.png  18541.png  39353.png  39579.png  4708.png\t66608.png  76253.png  89441.png  99551.png\n",
            "103420.png  18543.png  39354.png  39580.png  4709.png\t66609.png  76254.png  89442.png  99552.png\n",
            "103422.png  18544.png  39355.png  39582.png  4710.png\t66610.png  76256.png  89443.png  99553.png\n",
            "103423.png  18545.png  39358.png  39583.png  4712.png\t66611.png  76257.png  89444.png  99554.png\n",
            "103426.png  18546.png  39359.png  39584.png  4713.png\t66612.png  76258.png  89445.png  99556.png\n",
            "103428.png  18548.png  39360.png  39585.png  4714.png\t66613.png  76259.png  89447.png  99557.png\n",
            "103429.png  18550.png  39361.png  39586.png  4717.png\t66615.png  76260.png  89448.png  99558.png\n",
            "103430.png  18551.png  39362.png  39587.png  4718.png\t66616.png  76261.png  89449.png  99561.png\n",
            "103431.png  18552.png  39363.png  39588.png  4719.png\t66617.png  76262.png  89451.png  99563.png\n",
            "103432.png  18553.png  39364.png  39589.png  4720.png\t66618.png  76263.png  89453.png  99564.png\n",
            "103433.png  18554.png  39365.png  39591.png  4721.png\t66619.png  76264.png  89454.png  99565.png\n",
            "103434.png  22751.png  39366.png  39593.png  4722.png\t66620.png  76265.png  89455.png  99566.png\n",
            "103435.png  22753.png  39367.png  39594.png  4724.png\t66621.png  76266.png  89456.png  99570.png\n",
            "103436.png  22754.png  39368.png  39595.png  4725.png\t66622.png  76267.png  89457.png  99571.png\n",
            "103437.png  22755.png  39369.png  39596.png  4726.png\t66623.png  76268.png  89458.png  99572.png\n",
            "103438.png  22756.png  39370.png  39597.png  4727.png\t66624.png  76269.png  89459.png  99575.png\n",
            "103440.png  22757.png  39371.png  39598.png  4728.png\t66625.png  76270.png  89461.png  99576.png\n",
            "103441.png  22758.png  39372.png  39599.png  4729.png\t66626.png  76271.png  89462.png  99577.png\n",
            "103442.png  22759.png  39373.png  39600.png  4730.png\t66627.png  76272.png  89463.png  99578.png\n",
            "12272.png   22761.png  39374.png  39601.png  4731.png\t66628.png  76273.png  89464.png  99579.png\n",
            "12273.png   22762.png  39375.png  39602.png  49211.png\t66630.png  76274.png  89466.png  99580.png\n",
            "12274.png   22764.png  39376.png  39603.png  49212.png\t66631.png  76275.png  91463.png  99582.png\n",
            "12275.png   28799.png  39377.png  43491.png  49213.png\t66632.png  76276.png  91464.png  99583.png\n",
            "12276.png   28800.png  39379.png  43492.png  49214.png\t66633.png  76277.png  91465.png  99584.png\n",
            "12277.png   28801.png  39380.png  43493.png  49216.png\t66634.png  76278.png  91466.png  99585.png\n",
            "12278.png   28802.png  39381.png  43495.png  49217.png\t66635.png  76279.png  91467.png  99586.png\n",
            "12279.png   28803.png  39382.png  43496.png  49218.png\t66637.png  76280.png  91468.png  99587.png\n",
            "12280.png   28804.png  39383.png  43497.png  49219.png\t66638.png  76281.png  91469.png  99589.png\n",
            "12281.png   28807.png  39384.png  43498.png  49220.png\t66639.png  76282.png  91470.png  99590.png\n",
            "12282.png   28808.png  39385.png  43499.png  49221.png\t66640.png  76283.png  91471.png  99591.png\n",
            "12283.png   28809.png  39386.png  43500.png  49223.png\t66641.png  76284.png  91472.png  99592.png\n",
            "12284.png   28810.png  39387.png  43502.png  49224.png\t66642.png  76285.png  91473.png  99594.png\n",
            "12285.png   28811.png  39389.png  43503.png  49225.png\t66643.png  76286.png  91476.png  99595.png\n",
            "12287.png   28812.png  39390.png  43504.png  49226.png\t66645.png  76287.png  91477.png  99596.png\n",
            "12288.png   28813.png  39391.png  43509.png  49227.png\t66647.png  76288.png  91479.png  99597.png\n",
            "12289.png   28814.png  39392.png  43510.png  49228.png\t66650.png  76289.png  91480.png  99598.png\n",
            "12290.png   28815.png  39393.png  43511.png  49230.png\t66652.png  76290.png  91481.png  99599.png\n",
            "12291.png   28816.png  39394.png  43513.png  49231.png\t66653.png  76291.png  91483.png  99600.png\n",
            "12292.png   28817.png  39396.png  43514.png  49232.png\t66654.png  76292.png  91485.png  99601.png\n",
            "12293.png   28819.png  39397.png  43515.png  49233.png\t66655.png  76293.png  92385.png  99602.png\n",
            "12295.png   28820.png  39398.png  43516.png  49234.png\t66656.png  76294.png  92386.png  99603.png\n",
            "12297.png   28821.png  39399.png  43518.png  49235.png\t66657.png  76295.png  92387.png  99604.png\n",
            "12298.png   28823.png  39400.png  43520.png  49236.png\t66659.png  76296.png  92388.png  99605.png\n",
            "12299.png   28825.png  39401.png  43521.png  49237.png\t66660.png  76297.png  92389.png  99606.png\n",
            "12300.png   28827.png  39403.png  43522.png  49238.png\t66661.png  76298.png  92390.png  99607.png\n",
            "12301.png   28828.png  39404.png  43523.png  49239.png\t66662.png  76299.png  92391.png  99608.png\n",
            "12302.png   28829.png  39405.png  43524.png  49240.png\t66663.png  76301.png  92393.png  99609.png\n",
            "12303.png   28830.png  39406.png  43525.png  49241.png\t66664.png  76302.png  92394.png  99611.png\n",
            "12304.png   28834.png  39407.png  43526.png  49242.png\t66665.png  76304.png  92395.png  99612.png\n",
            "12306.png   28835.png  39408.png  43527.png  49243.png\t66666.png  76305.png  92396.png  99613.png\n",
            "12307.png   28836.png  39409.png  43528.png  49244.png\t66667.png  76306.png  92397.png  99614.png\n",
            "12308.png   28839.png  39410.png  43529.png  49245.png\t66669.png  76307.png  92398.png  99615.png\n",
            "12309.png   28840.png  39411.png  44561.png  49246.png\t66671.png  76308.png  92399.png  99616.png\n",
            "12310.png   28841.png  39414.png  44562.png  49247.png\t66674.png  76310.png  92400.png  99617.png\n",
            "12311.png   28842.png  39416.png  44563.png  49248.png\t66675.png  76311.png  92401.png  99618.png\n",
            "12312.png   28844.png  39417.png  44564.png  49249.png\t66676.png  76313.png  92402.png  99619.png\n",
            "12315.png   28845.png  39418.png  44565.png  49250.png\t66677.png  76314.png  92403.png  99620.png\n",
            "12316.png   28846.png  39419.png  44566.png  49251.png\t66678.png  76316.png  92404.png  99621.png\n",
            "12317.png   28847.png  39421.png  44567.png  49253.png\t66679.png  76317.png  92405.png  99622.png\n",
            "12318.png   28848.png  39422.png  4558.png   49254.png\t66680.png  76318.png  92406.png  99623.png\n",
            "12319.png   28849.png  39423.png  4559.png   49255.png\t66681.png  76320.png  92407.png  99624.png\n",
            "12320.png   28850.png  39424.png  4560.png   49256.png\t6768.png   76321.png  92408.png  99626.png\n",
            "12321.png   28851.png  39425.png  4561.png   49257.png\t6769.png   76322.png  9488.png\t 99627.png\n",
            "12322.png   28854.png  39426.png  4562.png   49258.png\t6770.png   76323.png  9489.png\t 99628.png\n",
            "12323.png   28855.png  39427.png  4563.png   49259.png\t6771.png   76324.png  9490.png\t 99629.png\n",
            "12324.png   28856.png  39429.png  4564.png   49260.png\t6772.png   76325.png  9491.png\t 99630.png\n",
            "12325.png   28857.png  39431.png  4565.png   49261.png\t6773.png   76326.png  9492.png\t 99631.png\n",
            "12326.png   28859.png  39432.png  4566.png   49262.png\t6774.png   76327.png  9494.png\t 99632.png\n",
            "12327.png   28860.png  39433.png  4567.png   49263.png\t6775.png   76328.png  9495.png\t 99633.png\n",
            "12328.png   28861.png  39434.png  4568.png   49264.png\t6776.png   76330.png  9496.png\t 99634.png\n",
            "12329.png   28862.png  39436.png  4569.png   49266.png\t6777.png   76331.png  9497.png\t 99635.png\n",
            "12330.png   28863.png  39437.png  4570.png   49268.png\t6778.png   76334.png  9498.png\t 99636.png\n",
            "12331.png   28864.png  39439.png  4571.png   49269.png\t6779.png   76335.png  9501.png\t 99637.png\n",
            "12332.png   28865.png  39440.png  4572.png   49270.png\t6780.png   76336.png  9504.png\t 99639.png\n",
            "12334.png   28866.png  39441.png  4573.png   49272.png\t6782.png   76338.png  9505.png\n"
          ]
        }
      ]
    },
    {
      "cell_type": "code",
      "source": [
        "from PIL import Image\n",
        "import os\n",
        "import numpy as np\n",
        "\n",
        "# Path to the dataset folder\n",
        "dataset_path = \"/content/drive/MyDrive/Artificial Intelligence and Machine Learning/week 4/DevanagariHandwrittenDigitDataset/Train\"\n",
        "\n",
        "# Placeholder for images and labels\n",
        "images = []\n",
        "labels = []\n",
        "\n",
        "# Iterate through each folder and file\n",
        "for label_folder in os.listdir(dataset_path):\n",
        "    folder_path = os.path.join(dataset_path, label_folder)\n",
        "    if os.path.isdir(folder_path):  # Ensure it’s a directory\n",
        "        for file_name in os.listdir(folder_path):\n",
        "            file_path = os.path.join(folder_path, file_name)\n",
        "            if file_name.endswith('.png'):  # Assuming images are PNG files\n",
        "                # Open and process image\n",
        "                image = Image.open(file_path).convert('L')  # Convert to grayscale\n",
        "                image_array = np.array(image)  # Convert to numpy array\n",
        "                images.append(image_array)\n",
        "                labels.append(label_folder)  # Use folder name as label\n",
        "\n",
        "# Convert lists to numpy arrays\n",
        "images = np.array(images)\n",
        "labels = np.array(labels)\n",
        "\n",
        "print(f\"Loaded {len(images)} images with labels.\")\n"
      ],
      "metadata": {
        "colab": {
          "base_uri": "https://localhost:8080/"
        },
        "id": "vBk1w1G8BSSr",
        "outputId": "224e494c-dd4e-4d7e-a971-67aa3b548f77"
      },
      "execution_count": null,
      "outputs": [
        {
          "output_type": "stream",
          "name": "stdout",
          "text": [
            "Loaded 17000 images with labels.\n"
          ]
        }
      ]
    },
    {
      "cell_type": "code",
      "source": [
        "from PIL import Image\n",
        "import os\n",
        "import numpy as np\n",
        "from tensorflow.keras.utils import to_categorical\n",
        "from sklearn.utils import shuffle\n",
        "\n",
        "# Function to load, process, and normalize images\n",
        "def load_images_and_labels(folder_path, target_size=(28, 28)):\n",
        "    images = []\n",
        "    labels = []\n",
        "    label_mapping = {}  # To map folder names to numerical labels\n",
        "    current_label = 0\n",
        "\n",
        "    # Iterate through folders (each folder represents a class)\n",
        "    for label_folder in sorted(os.listdir(folder_path)):  # Ensure consistent label order\n",
        "        label_path = os.path.join(folder_path, label_folder)\n",
        "        if os.path.isdir(label_path):\n",
        "            # Map folder name to a numerical label\n",
        "            if label_folder not in label_mapping:\n",
        "                label_mapping[label_folder] = current_label\n",
        "                current_label += 1\n",
        "\n",
        "            for file_name in os.listdir(label_path):\n",
        "                file_path = os.path.join(label_path, file_name)\n",
        "                if file_name.endswith('.png'):  # Check for PNG files\n",
        "                    # Load image, resize to target size, and convert to grayscale\n",
        "                    image = Image.open(file_path).convert('L').resize(target_size)\n",
        "                    image_array = np.array(image, dtype=np.float32)  # Convert to NumPy array\n",
        "                    image_array /= 255.0  # Normalize to range 0-1\n",
        "                    images.append(image_array)\n",
        "                    labels.append(label_mapping[label_folder])  # Assign numerical label\n",
        "\n",
        "    # Convert to NumPy arrays\n",
        "    images = np.array(images)\n",
        "    labels = np.array(labels)\n",
        "\n",
        "    return images, labels, label_mapping\n",
        "\n",
        "# Paths to the train and test folders\n",
        "train_folder = \"/content/drive/MyDrive/Artificial Intelligence and Machine Learning/week 4/DevanagariHandwrittenDigitDataset/Train\"\n",
        "test_folder = \"/content/drive/MyDrive/Artificial Intelligence and Machine Learning/week 4/DevanagariHandwrittenDigitDataset/Test\"\n",
        "\n",
        "# Load and process training and testing data\n",
        "train_images, train_labels, label_mapping = load_images_and_labels(train_folder)\n",
        "test_images, test_labels, _ = load_images_and_labels(test_folder)\n",
        "\n",
        "# ✅ Shuffle after loading!\n",
        "train_images, train_labels = shuffle(train_images, train_labels, random_state=42)\n",
        "\n",
        "# One-hot encode the labels for multi-class classification\n",
        "train_labels = to_categorical(train_labels, num_classes=len(label_mapping))\n",
        "test_labels = to_categorical(test_labels, num_classes=len(label_mapping))\n",
        "\n",
        "# Confirm everything looks good\n",
        "print(f\"Training set: {train_images.shape[0]} images, {train_labels.shape[0]} labels.\")\n",
        "print(f\"Testing set: {test_images.shape[0]} images, {test_labels.shape[0]} labels.\")\n",
        "print(f\"Label Mapping: {label_mapping}\")\n",
        "print(os.listdir(train_folder))\n"
      ],
      "metadata": {
        "colab": {
          "base_uri": "https://localhost:8080/"
        },
        "id": "mXzQruUdCrXO",
        "outputId": "a1539f4d-9eb2-44a6-a8f7-63ab0cc28b9f"
      },
      "execution_count": null,
      "outputs": [
        {
          "output_type": "stream",
          "name": "stdout",
          "text": [
            "Training set: 17000 images, 17000 labels.\n",
            "Testing set: 3000 images, 3000 labels.\n",
            "Label Mapping: {'digit_0': 0, 'digit_1': 1, 'digit_2': 2, 'digit_3': 3, 'digit_4': 4, 'digit_5': 5, 'digit_6': 6, 'digit_7': 7, 'digit_8': 8, 'digit_9': 9}\n",
            "['digit_0', 'digit_1', 'digit_2', 'digit_3', 'digit_4', 'digit_5', 'digit_6', 'digit_7', 'digit_8', 'digit_9']\n"
          ]
        }
      ]
    },
    {
      "cell_type": "markdown",
      "source": [],
      "metadata": {
        "id": "K8hhtGf0WGqe"
      }
    },
    {
      "cell_type": "markdown",
      "source": [],
      "metadata": {
        "id": "zG2TcbWbWGnC"
      }
    },
    {
      "cell_type": "markdown",
      "source": [
        "Task 2: Build the FCN Model\n",
        "Model Architecture\n",
        "• Create a Sequential model using Keras.\n",
        "• Add 3 hidden layers with the following number of neurons:\n",
        "\n",
        "– 1st hidden layer: 64 neurons\n",
        "\n",
        "– 2nd hidden layer: 128 neurons\n",
        "\n",
        "– 3rd hidden layer: 256 neurons\n",
        "\n",
        "• Use sigmoid activation functions for all hidden layers.\n",
        "\n",
        "• Add an output layer with 10 units with softmax (since Devnagari digits have 10 classes) and a\n",
        "softmax activation function."
      ],
      "metadata": {
        "id": "lpUkY9wiDne6"
      }
    },
    {
      "cell_type": "code",
      "source": [
        "from tensorflow.keras.models import Sequential\n",
        "\n",
        "# Initialize the Sequential model\n",
        "model = Sequential()\n",
        "\n",
        "print(\"Sequential model initialized.\")\n"
      ],
      "metadata": {
        "colab": {
          "base_uri": "https://localhost:8080/"
        },
        "id": "X3QU8hFRDuOT",
        "outputId": "c409dc3b-39b6-4537-ef3d-d735ba276b15"
      },
      "execution_count": null,
      "outputs": [
        {
          "output_type": "stream",
          "name": "stdout",
          "text": [
            "Sequential model initialized.\n"
          ]
        }
      ]
    },
    {
      "cell_type": "code",
      "source": [
        "model.add(Flatten(input_shape=(28, 28)))\n",
        "model.add(Dense(64, activation='relu'))\n",
        "model.add(Dense(128, activation='relu'))\n",
        "model.add(Dense(256, activation='relu'))\n",
        "model.add(Dense(10, activation='softmax'))\n"
      ],
      "metadata": {
        "id": "VHh2jS3kDzCH"
      },
      "execution_count": null,
      "outputs": []
    },
    {
      "cell_type": "code",
      "source": [
        "model.summary()"
      ],
      "metadata": {
        "colab": {
          "base_uri": "https://localhost:8080/",
          "height": 293
        },
        "id": "s6Dfxyj8Wfn8",
        "outputId": "c54c99b1-1d83-40cc-e9fc-9e544364b2f0"
      },
      "execution_count": null,
      "outputs": [
        {
          "output_type": "display_data",
          "data": {
            "text/plain": [
              "\u001b[1mModel: \"sequential_8\"\u001b[0m\n"
            ],
            "text/html": [
              "<pre style=\"white-space:pre;overflow-x:auto;line-height:normal;font-family:Menlo,'DejaVu Sans Mono',consolas,'Courier New',monospace\"><span style=\"font-weight: bold\">Model: \"sequential_8\"</span>\n",
              "</pre>\n"
            ]
          },
          "metadata": {}
        },
        {
          "output_type": "display_data",
          "data": {
            "text/plain": [
              "┏━━━━━━━━━━━━━━━━━━━━━━━━━━━━━━━━━━━━━━┳━━━━━━━━━━━━━━━━━━━━━━━━━━━━━┳━━━━━━━━━━━━━━━━━┓\n",
              "┃\u001b[1m \u001b[0m\u001b[1mLayer (type)                        \u001b[0m\u001b[1m \u001b[0m┃\u001b[1m \u001b[0m\u001b[1mOutput Shape               \u001b[0m\u001b[1m \u001b[0m┃\u001b[1m \u001b[0m\u001b[1m        Param #\u001b[0m\u001b[1m \u001b[0m┃\n",
              "┡━━━━━━━━━━━━━━━━━━━━━━━━━━━━━━━━━━━━━━╇━━━━━━━━━━━━━━━━━━━━━━━━━━━━━╇━━━━━━━━━━━━━━━━━┩\n",
              "│ flatten_10 (\u001b[38;5;33mFlatten\u001b[0m)                 │ (\u001b[38;5;45mNone\u001b[0m, \u001b[38;5;34m784\u001b[0m)                 │               \u001b[38;5;34m0\u001b[0m │\n",
              "├──────────────────────────────────────┼─────────────────────────────┼─────────────────┤\n",
              "│ dense_44 (\u001b[38;5;33mDense\u001b[0m)                     │ (\u001b[38;5;45mNone\u001b[0m, \u001b[38;5;34m64\u001b[0m)                  │          \u001b[38;5;34m50,240\u001b[0m │\n",
              "├──────────────────────────────────────┼─────────────────────────────┼─────────────────┤\n",
              "│ dense_45 (\u001b[38;5;33mDense\u001b[0m)                     │ (\u001b[38;5;45mNone\u001b[0m, \u001b[38;5;34m128\u001b[0m)                 │           \u001b[38;5;34m8,320\u001b[0m │\n",
              "├──────────────────────────────────────┼─────────────────────────────┼─────────────────┤\n",
              "│ dense_46 (\u001b[38;5;33mDense\u001b[0m)                     │ (\u001b[38;5;45mNone\u001b[0m, \u001b[38;5;34m256\u001b[0m)                 │          \u001b[38;5;34m33,024\u001b[0m │\n",
              "├──────────────────────────────────────┼─────────────────────────────┼─────────────────┤\n",
              "│ dense_47 (\u001b[38;5;33mDense\u001b[0m)                     │ (\u001b[38;5;45mNone\u001b[0m, \u001b[38;5;34m10\u001b[0m)                  │           \u001b[38;5;34m2,570\u001b[0m │\n",
              "└──────────────────────────────────────┴─────────────────────────────┴─────────────────┘\n"
            ],
            "text/html": [
              "<pre style=\"white-space:pre;overflow-x:auto;line-height:normal;font-family:Menlo,'DejaVu Sans Mono',consolas,'Courier New',monospace\">┏━━━━━━━━━━━━━━━━━━━━━━━━━━━━━━━━━━━━━━┳━━━━━━━━━━━━━━━━━━━━━━━━━━━━━┳━━━━━━━━━━━━━━━━━┓\n",
              "┃<span style=\"font-weight: bold\"> Layer (type)                         </span>┃<span style=\"font-weight: bold\"> Output Shape                </span>┃<span style=\"font-weight: bold\">         Param # </span>┃\n",
              "┡━━━━━━━━━━━━━━━━━━━━━━━━━━━━━━━━━━━━━━╇━━━━━━━━━━━━━━━━━━━━━━━━━━━━━╇━━━━━━━━━━━━━━━━━┩\n",
              "│ flatten_10 (<span style=\"color: #0087ff; text-decoration-color: #0087ff\">Flatten</span>)                 │ (<span style=\"color: #00d7ff; text-decoration-color: #00d7ff\">None</span>, <span style=\"color: #00af00; text-decoration-color: #00af00\">784</span>)                 │               <span style=\"color: #00af00; text-decoration-color: #00af00\">0</span> │\n",
              "├──────────────────────────────────────┼─────────────────────────────┼─────────────────┤\n",
              "│ dense_44 (<span style=\"color: #0087ff; text-decoration-color: #0087ff\">Dense</span>)                     │ (<span style=\"color: #00d7ff; text-decoration-color: #00d7ff\">None</span>, <span style=\"color: #00af00; text-decoration-color: #00af00\">64</span>)                  │          <span style=\"color: #00af00; text-decoration-color: #00af00\">50,240</span> │\n",
              "├──────────────────────────────────────┼─────────────────────────────┼─────────────────┤\n",
              "│ dense_45 (<span style=\"color: #0087ff; text-decoration-color: #0087ff\">Dense</span>)                     │ (<span style=\"color: #00d7ff; text-decoration-color: #00d7ff\">None</span>, <span style=\"color: #00af00; text-decoration-color: #00af00\">128</span>)                 │           <span style=\"color: #00af00; text-decoration-color: #00af00\">8,320</span> │\n",
              "├──────────────────────────────────────┼─────────────────────────────┼─────────────────┤\n",
              "│ dense_46 (<span style=\"color: #0087ff; text-decoration-color: #0087ff\">Dense</span>)                     │ (<span style=\"color: #00d7ff; text-decoration-color: #00d7ff\">None</span>, <span style=\"color: #00af00; text-decoration-color: #00af00\">256</span>)                 │          <span style=\"color: #00af00; text-decoration-color: #00af00\">33,024</span> │\n",
              "├──────────────────────────────────────┼─────────────────────────────┼─────────────────┤\n",
              "│ dense_47 (<span style=\"color: #0087ff; text-decoration-color: #0087ff\">Dense</span>)                     │ (<span style=\"color: #00d7ff; text-decoration-color: #00d7ff\">None</span>, <span style=\"color: #00af00; text-decoration-color: #00af00\">10</span>)                  │           <span style=\"color: #00af00; text-decoration-color: #00af00\">2,570</span> │\n",
              "└──────────────────────────────────────┴─────────────────────────────┴─────────────────┘\n",
              "</pre>\n"
            ]
          },
          "metadata": {}
        },
        {
          "output_type": "display_data",
          "data": {
            "text/plain": [
              "\u001b[1m Total params: \u001b[0m\u001b[38;5;34m94,154\u001b[0m (367.79 KB)\n"
            ],
            "text/html": [
              "<pre style=\"white-space:pre;overflow-x:auto;line-height:normal;font-family:Menlo,'DejaVu Sans Mono',consolas,'Courier New',monospace\"><span style=\"font-weight: bold\"> Total params: </span><span style=\"color: #00af00; text-decoration-color: #00af00\">94,154</span> (367.79 KB)\n",
              "</pre>\n"
            ]
          },
          "metadata": {}
        },
        {
          "output_type": "display_data",
          "data": {
            "text/plain": [
              "\u001b[1m Trainable params: \u001b[0m\u001b[38;5;34m94,154\u001b[0m (367.79 KB)\n"
            ],
            "text/html": [
              "<pre style=\"white-space:pre;overflow-x:auto;line-height:normal;font-family:Menlo,'DejaVu Sans Mono',consolas,'Courier New',monospace\"><span style=\"font-weight: bold\"> Trainable params: </span><span style=\"color: #00af00; text-decoration-color: #00af00\">94,154</span> (367.79 KB)\n",
              "</pre>\n"
            ]
          },
          "metadata": {}
        },
        {
          "output_type": "display_data",
          "data": {
            "text/plain": [
              "\u001b[1m Non-trainable params: \u001b[0m\u001b[38;5;34m0\u001b[0m (0.00 B)\n"
            ],
            "text/html": [
              "<pre style=\"white-space:pre;overflow-x:auto;line-height:normal;font-family:Menlo,'DejaVu Sans Mono',consolas,'Courier New',monospace\"><span style=\"font-weight: bold\"> Non-trainable params: </span><span style=\"color: #00af00; text-decoration-color: #00af00\">0</span> (0.00 B)\n",
              "</pre>\n"
            ]
          },
          "metadata": {}
        }
      ]
    },
    {
      "cell_type": "markdown",
      "source": [
        ".\n"
      ],
      "metadata": {
        "id": "5fG3KTGmEE_8"
      }
    },
    {
      "cell_type": "markdown",
      "source": [
        ".\n"
      ],
      "metadata": {
        "id": "Pi3bujcwEFij"
      }
    },
    {
      "cell_type": "markdown",
      "source": [
        "Task 3: Compile the Model\n",
        "\n",
        "Model Compilation\n",
        "\n",
        "• Choose an appropriate optimizer (e.g., Adam), loss function (e.g., sparse categorical crossentropy),\n",
        "and evaluation metric (e.g., accuracy)."
      ],
      "metadata": {
        "id": "WCWZNwU_ETQG"
      }
    },
    {
      "cell_type": "code",
      "source": [
        "from tensorflow.keras.optimizers import Adam\n",
        "\n",
        "# Compile the previously built model\n",
        "model.compile(optimizer=Adam(),\n",
        "              loss='categorical_crossentropy',\n",
        "              metrics=['accuracy'])\n",
        "\n",
        "\n",
        "print(\"Model compiled successfully.\")\n"
      ],
      "metadata": {
        "colab": {
          "base_uri": "https://localhost:8080/"
        },
        "id": "qbKQEmLhEZN3",
        "outputId": "1276e988-c2fa-4465-f8b7-4e1d2b43e918"
      },
      "execution_count": null,
      "outputs": [
        {
          "output_type": "stream",
          "name": "stdout",
          "text": [
            "Model compiled successfully.\n"
          ]
        }
      ]
    },
    {
      "cell_type": "code",
      "source": [
        "print(f\"Shape of train_images: {train_images.shape}\")\n",
        "print(f\"Shape of train_labels: {train_labels.shape}\")\n"
      ],
      "metadata": {
        "colab": {
          "base_uri": "https://localhost:8080/"
        },
        "id": "xVOsz1t0GjVH",
        "outputId": "74ab4ea9-428a-493d-fdfa-e3ee51a34d0d"
      },
      "execution_count": null,
      "outputs": [
        {
          "output_type": "stream",
          "name": "stdout",
          "text": [
            "Shape of train_images: (17000, 28, 28)\n",
            "Shape of train_labels: (17000, 10)\n"
          ]
        }
      ]
    },
    {
      "cell_type": "markdown",
      "source": [
        "Task 4: Train the Model\n",
        "\n",
        "Model Training\n",
        "\n",
        "• Use the model.fit() function to train the model. Set the batch size to 128 and the number of\n",
        "epochs to 20.\n",
        "\n",
        "• Use validation split (validation split=0.2) to monitor the model’s performance on validation\n",
        "data.\n",
        "\n",
        "• Optionally, use callbacks such as ModelCheckpoint and EarlyStopping for saving the best model and avoiding overfitting."
      ],
      "metadata": {
        "id": "nxs1jSiIFBQI"
      }
    },
    {
      "cell_type": "code",
      "source": [
        "# Set up callbacks\n",
        "checkpoint = ModelCheckpoint(\"best_model.h5\", monitor=\"val_loss\", save_best_only=True)\n",
        "early_stopping = EarlyStopping(monitor=\"val_loss\", patience=3, restore_best_weights=True)\n",
        "callbacks = [checkpoint, early_stopping]\n",
        "\n",
        "# Train the model\n",
        "history = model.fit(\n",
        "    train_images, train_labels,\n",
        "    batch_size=128,\n",
        "    epochs=20,\n",
        "    validation_split=0.2,\n",
        "    callbacks=[checkpoint, early_stopping]\n",
        ")\n",
        "\n",
        "# Print summary\n",
        "print(model.summary())"
      ],
      "metadata": {
        "colab": {
          "base_uri": "https://localhost:8080/",
          "height": 780
        },
        "id": "5Q6nphqtFTOa",
        "outputId": "cf339a20-0a7e-40f3-f837-1fae130a469e"
      },
      "execution_count": null,
      "outputs": [
        {
          "output_type": "stream",
          "name": "stdout",
          "text": [
            "Epoch 1/20\n",
            "\u001b[1m105/107\u001b[0m \u001b[32m━━━━━━━━━━━━━━━━━━━\u001b[0m\u001b[37m━\u001b[0m \u001b[1m0s\u001b[0m 4ms/step - accuracy: 0.6910 - loss: 1.0358"
          ]
        },
        {
          "output_type": "stream",
          "name": "stderr",
          "text": [
            "WARNING:absl:You are saving your model as an HDF5 file via `model.save()` or `keras.saving.save_model(model)`. This file format is considered legacy. We recommend using instead the native Keras format, e.g. `model.save('my_model.keras')` or `keras.saving.save_model(model, 'my_model.keras')`. \n"
          ]
        },
        {
          "output_type": "stream",
          "name": "stdout",
          "text": [
            "\b\b\b\b\b\b\b\b\b\b\b\b\b\b\b\b\b\b\b\b\b\b\b\b\b\b\b\b\b\b\b\b\b\b\b\b\b\b\b\b\b\b\b\b\b\b\b\b\b\b\b\b\b\b\b\b\b\b\b\b\b\b\b\b\b\b\b\b\b\b\b\b\b\b\r\u001b[1m107/107\u001b[0m \u001b[32m━━━━━━━━━━━━━━━━━━━━\u001b[0m\u001b[37m\u001b[0m \u001b[1m2s\u001b[0m 8ms/step - accuracy: 0.6952 - loss: 1.0219 - val_accuracy: 0.9426 - val_loss: 0.1887\n",
            "Epoch 2/20\n",
            "\u001b[1m 99/107\u001b[0m \u001b[32m━━━━━━━━━━━━━━━━━━\u001b[0m\u001b[37m━━\u001b[0m \u001b[1m0s\u001b[0m 4ms/step - accuracy: 0.9462 - loss: 0.1733"
          ]
        },
        {
          "output_type": "stream",
          "name": "stderr",
          "text": [
            "WARNING:absl:You are saving your model as an HDF5 file via `model.save()` or `keras.saving.save_model(model)`. This file format is considered legacy. We recommend using instead the native Keras format, e.g. `model.save('my_model.keras')` or `keras.saving.save_model(model, 'my_model.keras')`. \n"
          ]
        },
        {
          "output_type": "stream",
          "name": "stdout",
          "text": [
            "\b\b\b\b\b\b\b\b\b\b\b\b\b\b\b\b\b\b\b\b\b\b\b\b\b\b\b\b\b\b\b\b\b\b\b\b\b\b\b\b\b\b\b\b\b\b\b\b\b\b\b\b\b\b\b\b\b\b\b\b\b\b\b\b\b\b\b\b\b\b\b\b\b\b\r\u001b[1m107/107\u001b[0m \u001b[32m━━━━━━━━━━━━━━━━━━━━\u001b[0m\u001b[37m\u001b[0m \u001b[1m1s\u001b[0m 6ms/step - accuracy: 0.9467 - loss: 0.1717 - val_accuracy: 0.9579 - val_loss: 0.1337\n",
            "Epoch 3/20\n",
            "\u001b[1m103/107\u001b[0m \u001b[32m━━━━━━━━━━━━━━━━━━━\u001b[0m\u001b[37m━\u001b[0m \u001b[1m0s\u001b[0m 4ms/step - accuracy: 0.9722 - loss: 0.1015"
          ]
        },
        {
          "output_type": "stream",
          "name": "stderr",
          "text": [
            "WARNING:absl:You are saving your model as an HDF5 file via `model.save()` or `keras.saving.save_model(model)`. This file format is considered legacy. We recommend using instead the native Keras format, e.g. `model.save('my_model.keras')` or `keras.saving.save_model(model, 'my_model.keras')`. \n"
          ]
        },
        {
          "output_type": "stream",
          "name": "stdout",
          "text": [
            "\b\b\b\b\b\b\b\b\b\b\b\b\b\b\b\b\b\b\b\b\b\b\b\b\b\b\b\b\b\b\b\b\b\b\b\b\b\b\b\b\b\b\b\b\b\b\b\b\b\b\b\b\b\b\b\b\b\b\b\b\b\b\b\b\b\b\b\b\b\b\b\b\b\b\r\u001b[1m107/107\u001b[0m \u001b[32m━━━━━━━━━━━━━━━━━━━━\u001b[0m\u001b[37m\u001b[0m \u001b[1m1s\u001b[0m 6ms/step - accuracy: 0.9722 - loss: 0.1013 - val_accuracy: 0.9694 - val_loss: 0.0937\n",
            "Epoch 4/20\n",
            "\u001b[1m 96/107\u001b[0m \u001b[32m━━━━━━━━━━━━━━━━━\u001b[0m\u001b[37m━━━\u001b[0m \u001b[1m0s\u001b[0m 4ms/step - accuracy: 0.9802 - loss: 0.0673"
          ]
        },
        {
          "output_type": "stream",
          "name": "stderr",
          "text": [
            "WARNING:absl:You are saving your model as an HDF5 file via `model.save()` or `keras.saving.save_model(model)`. This file format is considered legacy. We recommend using instead the native Keras format, e.g. `model.save('my_model.keras')` or `keras.saving.save_model(model, 'my_model.keras')`. \n"
          ]
        },
        {
          "output_type": "stream",
          "name": "stdout",
          "text": [
            "\b\b\b\b\b\b\b\b\b\b\b\b\b\b\b\b\b\b\b\b\b\b\b\b\b\b\b\b\b\b\b\b\b\b\b\b\b\b\b\b\b\b\b\b\b\b\b\b\b\b\b\b\b\b\b\b\b\b\b\b\b\b\b\b\b\b\b\b\b\b\b\b\b\b\r\u001b[1m107/107\u001b[0m \u001b[32m━━━━━━━━━━━━━━━━━━━━\u001b[0m\u001b[37m\u001b[0m \u001b[1m1s\u001b[0m 6ms/step - accuracy: 0.9802 - loss: 0.0674 - val_accuracy: 0.9738 - val_loss: 0.0836\n",
            "Epoch 5/20\n",
            "\u001b[1m107/107\u001b[0m \u001b[32m━━━━━━━━━━━━━━━━━━━━\u001b[0m\u001b[37m\u001b[0m \u001b[1m1s\u001b[0m 5ms/step - accuracy: 0.9886 - loss: 0.0455 - val_accuracy: 0.9726 - val_loss: 0.0929\n",
            "Epoch 6/20\n",
            "\u001b[1m107/107\u001b[0m \u001b[32m━━━━━━━━━━━━━━━━━━━━\u001b[0m\u001b[37m\u001b[0m \u001b[1m1s\u001b[0m 6ms/step - accuracy: 0.9863 - loss: 0.0448 - val_accuracy: 0.9726 - val_loss: 0.0886\n",
            "Epoch 7/20\n",
            "\u001b[1m106/107\u001b[0m \u001b[32m━━━━━━━━━━━━━━━━━━━\u001b[0m\u001b[37m━\u001b[0m \u001b[1m0s\u001b[0m 7ms/step - accuracy: 0.9917 - loss: 0.0292"
          ]
        },
        {
          "output_type": "stream",
          "name": "stderr",
          "text": [
            "WARNING:absl:You are saving your model as an HDF5 file via `model.save()` or `keras.saving.save_model(model)`. This file format is considered legacy. We recommend using instead the native Keras format, e.g. `model.save('my_model.keras')` or `keras.saving.save_model(model, 'my_model.keras')`. \n"
          ]
        },
        {
          "output_type": "stream",
          "name": "stdout",
          "text": [
            "\b\b\b\b\b\b\b\b\b\b\b\b\b\b\b\b\b\b\b\b\b\b\b\b\b\b\b\b\b\b\b\b\b\b\b\b\b\b\b\b\b\b\b\b\b\b\b\b\b\b\b\b\b\b\b\b\b\b\b\b\b\b\b\b\b\b\b\b\b\b\b\b\b\b\r\u001b[1m107/107\u001b[0m \u001b[32m━━━━━━━━━━━━━━━━━━━━\u001b[0m\u001b[37m\u001b[0m \u001b[1m1s\u001b[0m 9ms/step - accuracy: 0.9917 - loss: 0.0292 - val_accuracy: 0.9797 - val_loss: 0.0653\n",
            "Epoch 8/20\n",
            "\u001b[1m107/107\u001b[0m \u001b[32m━━━━━━━━━━━━━━━━━━━━\u001b[0m\u001b[37m\u001b[0m \u001b[1m1s\u001b[0m 9ms/step - accuracy: 0.9938 - loss: 0.0220 - val_accuracy: 0.9803 - val_loss: 0.0686\n",
            "Epoch 9/20\n",
            "\u001b[1m107/107\u001b[0m \u001b[32m━━━━━━━━━━━━━━━━━━━━\u001b[0m\u001b[37m\u001b[0m \u001b[1m1s\u001b[0m 9ms/step - accuracy: 0.9948 - loss: 0.0193 - val_accuracy: 0.9765 - val_loss: 0.0740\n",
            "Epoch 10/20\n",
            "\u001b[1m107/107\u001b[0m \u001b[32m━━━━━━━━━━━━━━━━━━━━\u001b[0m\u001b[37m\u001b[0m \u001b[1m1s\u001b[0m 6ms/step - accuracy: 0.9954 - loss: 0.0166 - val_accuracy: 0.9829 - val_loss: 0.0677\n"
          ]
        },
        {
          "output_type": "display_data",
          "data": {
            "text/plain": [
              "\u001b[1mModel: \"sequential_8\"\u001b[0m\n"
            ],
            "text/html": [
              "<pre style=\"white-space:pre;overflow-x:auto;line-height:normal;font-family:Menlo,'DejaVu Sans Mono',consolas,'Courier New',monospace\"><span style=\"font-weight: bold\">Model: \"sequential_8\"</span>\n",
              "</pre>\n"
            ]
          },
          "metadata": {}
        },
        {
          "output_type": "display_data",
          "data": {
            "text/plain": [
              "┏━━━━━━━━━━━━━━━━━━━━━━━━━━━━━━━━━━━━━━┳━━━━━━━━━━━━━━━━━━━━━━━━━━━━━┳━━━━━━━━━━━━━━━━━┓\n",
              "┃\u001b[1m \u001b[0m\u001b[1mLayer (type)                        \u001b[0m\u001b[1m \u001b[0m┃\u001b[1m \u001b[0m\u001b[1mOutput Shape               \u001b[0m\u001b[1m \u001b[0m┃\u001b[1m \u001b[0m\u001b[1m        Param #\u001b[0m\u001b[1m \u001b[0m┃\n",
              "┡━━━━━━━━━━━━━━━━━━━━━━━━━━━━━━━━━━━━━━╇━━━━━━━━━━━━━━━━━━━━━━━━━━━━━╇━━━━━━━━━━━━━━━━━┩\n",
              "│ flatten_10 (\u001b[38;5;33mFlatten\u001b[0m)                 │ (\u001b[38;5;45mNone\u001b[0m, \u001b[38;5;34m784\u001b[0m)                 │               \u001b[38;5;34m0\u001b[0m │\n",
              "├──────────────────────────────────────┼─────────────────────────────┼─────────────────┤\n",
              "│ dense_44 (\u001b[38;5;33mDense\u001b[0m)                     │ (\u001b[38;5;45mNone\u001b[0m, \u001b[38;5;34m64\u001b[0m)                  │          \u001b[38;5;34m50,240\u001b[0m │\n",
              "├──────────────────────────────────────┼─────────────────────────────┼─────────────────┤\n",
              "│ dense_45 (\u001b[38;5;33mDense\u001b[0m)                     │ (\u001b[38;5;45mNone\u001b[0m, \u001b[38;5;34m128\u001b[0m)                 │           \u001b[38;5;34m8,320\u001b[0m │\n",
              "├──────────────────────────────────────┼─────────────────────────────┼─────────────────┤\n",
              "│ dense_46 (\u001b[38;5;33mDense\u001b[0m)                     │ (\u001b[38;5;45mNone\u001b[0m, \u001b[38;5;34m256\u001b[0m)                 │          \u001b[38;5;34m33,024\u001b[0m │\n",
              "├──────────────────────────────────────┼─────────────────────────────┼─────────────────┤\n",
              "│ dense_47 (\u001b[38;5;33mDense\u001b[0m)                     │ (\u001b[38;5;45mNone\u001b[0m, \u001b[38;5;34m10\u001b[0m)                  │           \u001b[38;5;34m2,570\u001b[0m │\n",
              "└──────────────────────────────────────┴─────────────────────────────┴─────────────────┘\n"
            ],
            "text/html": [
              "<pre style=\"white-space:pre;overflow-x:auto;line-height:normal;font-family:Menlo,'DejaVu Sans Mono',consolas,'Courier New',monospace\">┏━━━━━━━━━━━━━━━━━━━━━━━━━━━━━━━━━━━━━━┳━━━━━━━━━━━━━━━━━━━━━━━━━━━━━┳━━━━━━━━━━━━━━━━━┓\n",
              "┃<span style=\"font-weight: bold\"> Layer (type)                         </span>┃<span style=\"font-weight: bold\"> Output Shape                </span>┃<span style=\"font-weight: bold\">         Param # </span>┃\n",
              "┡━━━━━━━━━━━━━━━━━━━━━━━━━━━━━━━━━━━━━━╇━━━━━━━━━━━━━━━━━━━━━━━━━━━━━╇━━━━━━━━━━━━━━━━━┩\n",
              "│ flatten_10 (<span style=\"color: #0087ff; text-decoration-color: #0087ff\">Flatten</span>)                 │ (<span style=\"color: #00d7ff; text-decoration-color: #00d7ff\">None</span>, <span style=\"color: #00af00; text-decoration-color: #00af00\">784</span>)                 │               <span style=\"color: #00af00; text-decoration-color: #00af00\">0</span> │\n",
              "├──────────────────────────────────────┼─────────────────────────────┼─────────────────┤\n",
              "│ dense_44 (<span style=\"color: #0087ff; text-decoration-color: #0087ff\">Dense</span>)                     │ (<span style=\"color: #00d7ff; text-decoration-color: #00d7ff\">None</span>, <span style=\"color: #00af00; text-decoration-color: #00af00\">64</span>)                  │          <span style=\"color: #00af00; text-decoration-color: #00af00\">50,240</span> │\n",
              "├──────────────────────────────────────┼─────────────────────────────┼─────────────────┤\n",
              "│ dense_45 (<span style=\"color: #0087ff; text-decoration-color: #0087ff\">Dense</span>)                     │ (<span style=\"color: #00d7ff; text-decoration-color: #00d7ff\">None</span>, <span style=\"color: #00af00; text-decoration-color: #00af00\">128</span>)                 │           <span style=\"color: #00af00; text-decoration-color: #00af00\">8,320</span> │\n",
              "├──────────────────────────────────────┼─────────────────────────────┼─────────────────┤\n",
              "│ dense_46 (<span style=\"color: #0087ff; text-decoration-color: #0087ff\">Dense</span>)                     │ (<span style=\"color: #00d7ff; text-decoration-color: #00d7ff\">None</span>, <span style=\"color: #00af00; text-decoration-color: #00af00\">256</span>)                 │          <span style=\"color: #00af00; text-decoration-color: #00af00\">33,024</span> │\n",
              "├──────────────────────────────────────┼─────────────────────────────┼─────────────────┤\n",
              "│ dense_47 (<span style=\"color: #0087ff; text-decoration-color: #0087ff\">Dense</span>)                     │ (<span style=\"color: #00d7ff; text-decoration-color: #00d7ff\">None</span>, <span style=\"color: #00af00; text-decoration-color: #00af00\">10</span>)                  │           <span style=\"color: #00af00; text-decoration-color: #00af00\">2,570</span> │\n",
              "└──────────────────────────────────────┴─────────────────────────────┴─────────────────┘\n",
              "</pre>\n"
            ]
          },
          "metadata": {}
        },
        {
          "output_type": "display_data",
          "data": {
            "text/plain": [
              "\u001b[1m Total params: \u001b[0m\u001b[38;5;34m282,464\u001b[0m (1.08 MB)\n"
            ],
            "text/html": [
              "<pre style=\"white-space:pre;overflow-x:auto;line-height:normal;font-family:Menlo,'DejaVu Sans Mono',consolas,'Courier New',monospace\"><span style=\"font-weight: bold\"> Total params: </span><span style=\"color: #00af00; text-decoration-color: #00af00\">282,464</span> (1.08 MB)\n",
              "</pre>\n"
            ]
          },
          "metadata": {}
        },
        {
          "output_type": "display_data",
          "data": {
            "text/plain": [
              "\u001b[1m Trainable params: \u001b[0m\u001b[38;5;34m94,154\u001b[0m (367.79 KB)\n"
            ],
            "text/html": [
              "<pre style=\"white-space:pre;overflow-x:auto;line-height:normal;font-family:Menlo,'DejaVu Sans Mono',consolas,'Courier New',monospace\"><span style=\"font-weight: bold\"> Trainable params: </span><span style=\"color: #00af00; text-decoration-color: #00af00\">94,154</span> (367.79 KB)\n",
              "</pre>\n"
            ]
          },
          "metadata": {}
        },
        {
          "output_type": "display_data",
          "data": {
            "text/plain": [
              "\u001b[1m Non-trainable params: \u001b[0m\u001b[38;5;34m0\u001b[0m (0.00 B)\n"
            ],
            "text/html": [
              "<pre style=\"white-space:pre;overflow-x:auto;line-height:normal;font-family:Menlo,'DejaVu Sans Mono',consolas,'Courier New',monospace\"><span style=\"font-weight: bold\"> Non-trainable params: </span><span style=\"color: #00af00; text-decoration-color: #00af00\">0</span> (0.00 B)\n",
              "</pre>\n"
            ]
          },
          "metadata": {}
        },
        {
          "output_type": "display_data",
          "data": {
            "text/plain": [
              "\u001b[1m Optimizer params: \u001b[0m\u001b[38;5;34m188,310\u001b[0m (735.59 KB)\n"
            ],
            "text/html": [
              "<pre style=\"white-space:pre;overflow-x:auto;line-height:normal;font-family:Menlo,'DejaVu Sans Mono',consolas,'Courier New',monospace\"><span style=\"font-weight: bold\"> Optimizer params: </span><span style=\"color: #00af00; text-decoration-color: #00af00\">188,310</span> (735.59 KB)\n",
              "</pre>\n"
            ]
          },
          "metadata": {}
        },
        {
          "output_type": "stream",
          "name": "stdout",
          "text": [
            "None\n"
          ]
        }
      ]
    },
    {
      "cell_type": "code",
      "source": [
        "test_loss, test_acc = model.evaluate(train_images, train_labels, verbose=2)\n",
        "print(f\"Test accuracy: {test_acc:.4f}\")\n"
      ],
      "metadata": {
        "colab": {
          "base_uri": "https://localhost:8080/"
        },
        "id": "zaIeqTHyoPvy",
        "outputId": "57152dcb-9912-4aa8-bd75-c4ff6afb2d71"
      },
      "execution_count": null,
      "outputs": [
        {
          "output_type": "stream",
          "name": "stdout",
          "text": [
            "532/532 - 1s - 2ms/step - accuracy: 0.9929 - loss: 0.0282\n",
            "Test accuracy: 0.9929\n"
          ]
        }
      ]
    },
    {
      "cell_type": "code",
      "source": [
        "# Save model as .h5 file\n",
        "model.save(\"devanagari_model.h5\")\n",
        "print(\"Model saved as devanagari_model.h5\")\n"
      ],
      "metadata": {
        "colab": {
          "base_uri": "https://localhost:8080/"
        },
        "id": "v9xnnDA2ohAj",
        "outputId": "06200d15-8a46-4dad-8a45-13bda4718c76"
      },
      "execution_count": null,
      "outputs": [
        {
          "output_type": "stream",
          "name": "stderr",
          "text": [
            "WARNING:absl:You are saving your model as an HDF5 file via `model.save()` or `keras.saving.save_model(model)`. This file format is considered legacy. We recommend using instead the native Keras format, e.g. `model.save('my_model.keras')` or `keras.saving.save_model(model, 'my_model.keras')`. \n"
          ]
        },
        {
          "output_type": "stream",
          "name": "stdout",
          "text": [
            "Model saved as devanagari_model.h5\n"
          ]
        }
      ]
    },
    {
      "cell_type": "code",
      "source": [
        "from tensorflow.keras.models import load_model\n",
        "\n",
        "# Load the .h5 model\n",
        "model = load_model(\"devanagari_model.h5\")\n",
        "print(\"Model loaded from devanagari_model.h5\")"
      ],
      "metadata": {
        "colab": {
          "base_uri": "https://localhost:8080/"
        },
        "id": "zhJGyKbmpIz0",
        "outputId": "623b4f68-b9df-48f4-f80f-7fdc623f41cb"
      },
      "execution_count": null,
      "outputs": [
        {
          "output_type": "stream",
          "name": "stderr",
          "text": [
            "WARNING:absl:Compiled the loaded model, but the compiled metrics have yet to be built. `model.compile_metrics` will be empty until you train or evaluate the model.\n"
          ]
        },
        {
          "output_type": "stream",
          "name": "stdout",
          "text": [
            "Model loaded from devanagari_model.h5\n"
          ]
        }
      ]
    },
    {
      "cell_type": "code",
      "source": [
        "# Use the model to make predictions on the test set\n",
        "predictions = model.predict(train_images)\n",
        "\n",
        "# Convert predictions from probabilities to digit labels\n",
        "predicted_labels = np.argmax(predictions, axis=1)\n",
        "\n",
        "# Check the first prediction\n",
        "print(f\"Predicted label for first image: {predicted_labels[0]}\")\n",
        "print(f\"True label for first image: {np.argmax(train_labels[0])}\")"
      ],
      "metadata": {
        "colab": {
          "base_uri": "https://localhost:8080/"
        },
        "id": "ZYRsmQDWpS31",
        "outputId": "3752b7f4-5429-4aba-aa11-94e242063622"
      },
      "execution_count": null,
      "outputs": [
        {
          "output_type": "stream",
          "name": "stdout",
          "text": [
            "\u001b[1m532/532\u001b[0m \u001b[32m━━━━━━━━━━━━━━━━━━━━\u001b[0m\u001b[37m\u001b[0m \u001b[1m1s\u001b[0m 2ms/step\n",
            "Predicted label for first image: 6\n",
            "True label for first image: 6\n"
          ]
        }
      ]
    },
    {
      "source": [
        "import matplotlib.pyplot as plt\n",
        "\n",
        "train_loss = history.history['loss']\n",
        "val_loss = history.history['val_loss']\n",
        "\n",
        "train_acc = history.history['accuracy']\n",
        "val_acc = history.history['val_accuracy']\n",
        "\n",
        "plt.figure(figsize=(12, 6))\n",
        "plt.subplot(1, 2, 1)\n",
        "plt.plot(range(1, len(train_loss) + 1), train_loss, label='Training Loss', color='blue')\n",
        "plt.plot(range(1, len(val_loss) + 1), val_loss, label='Validation Loss', color='orange')\n",
        "plt.xlabel('Epochs')\n",
        "plt.ylabel('Loss')\n",
        "plt.title('Training and Validation Loss')\n",
        "plt.legend()\n",
        "\n",
        "plt.subplot(1, 2, 2)\n",
        "plt.plot(range(1, len(train_acc) + 1), train_acc, label='Training Accuracy', color='blue')\n",
        "plt.plot(range(1, len(val_acc) + 1), val_acc, label='Validation Accuracy', color='orange')\n",
        "plt.xlabel('Epochs')\n",
        "plt.ylabel('Accuracy')\n",
        "plt.title('Training and Validation Accuracy')\n",
        "plt.legend()\n",
        "plt.tight_layout()\n",
        "plt.show()"
      ],
      "cell_type": "code",
      "metadata": {
        "colab": {
          "base_uri": "https://localhost:8080/",
          "height": 588
        },
        "id": "w5bdG5dZlaWN",
        "outputId": "1755d493-b994-4b06-b325-1de2dfcb6cda"
      },
      "execution_count": null,
      "outputs": [
        {
          "output_type": "display_data",
          "data": {
            "text/plain": [
              "<Figure size 1200x600 with 2 Axes>"
            ],
            "image/png": "[encoded data removed]"
          },
          "metadata": {}
        }
      ]
    }
  ]
}